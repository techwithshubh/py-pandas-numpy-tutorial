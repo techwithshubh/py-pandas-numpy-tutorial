{
 "cells": [
  {
   "cell_type": "code",
   "execution_count": null,
   "metadata": {},
   "outputs": [],
   "source": [
    "import pandas as pd\n",
    "\n",
    "df = pd.read_csv(\"./files/002 circuits.csv\")\n",
    "df.head()"
   ]
  },
  {
   "cell_type": "markdown",
   "metadata": {},
   "source": [
    "1. dtypes\n",
    "2. head, tail, describe, min, max"
   ]
  },
  {
   "cell_type": "code",
   "execution_count": null,
   "metadata": {},
   "outputs": [],
   "source": [
    "df.info()"
   ]
  },
  {
   "cell_type": "code",
   "execution_count": null,
   "metadata": {},
   "outputs": [],
   "source": [
    "names = df[\"name\"]\n",
    "names.head()\n",
    "type(names)\n",
    "names.shape"
   ]
  },
  {
   "cell_type": "code",
   "execution_count": null,
   "metadata": {},
   "outputs": [],
   "source": [
    "names_location = df[[\"name\", \"location\"]]\n",
    "names_location.head()\n",
    "names_location.shape\n",
    "type(names_location)"
   ]
  },
  {
   "cell_type": "code",
   "execution_count": null,
   "metadata": {},
   "outputs": [],
   "source": [
    "indians = df[df[\"country\"] == \"India\"]\n",
    "indians.head()\n",
    "indians.shape"
   ]
  },
  {
   "cell_type": "code",
   "execution_count": null,
   "metadata": {},
   "outputs": [],
   "source": [
    "indians = df[(df[\"country\"] == \"Spain\") & (df[\"alt\"] < 100)]\n",
    "indians.head()"
   ]
  },
  {
   "cell_type": "markdown",
   "metadata": {},
   "source": [
    ".notna for filtering na values"
   ]
  },
  {
   "cell_type": "markdown",
   "metadata": {},
   "source": [
    "loc(row name, col name)\n",
    "iloc(row index, col index)"
   ]
  },
  {
   "cell_type": "code",
   "execution_count": null,
   "metadata": {},
   "outputs": [],
   "source": [
    "circuits_in_spain = df.loc[df[\"country\"] == \"Spain\", [\"name\", \"location\"]]\n",
    "circuits_in_spain"
   ]
  },
  {
   "cell_type": "code",
   "execution_count": null,
   "metadata": {},
   "outputs": [],
   "source": [
    "circuits_10 = df.iloc[:3, :2]\n",
    "circuits_10"
   ]
  },
  {
   "cell_type": "markdown",
   "metadata": {},
   "source": [
    "When selecting subsets of data, square brackets [] are used.\n",
    "\n",
    "Inside these brackets, you can use a single column/row label, a list of column/row labels, a slice of labels, a conditional expression or a colon.\n",
    "\n",
    "Select specific rows and/or columns using loc when using the row and column names.\n",
    "\n",
    "Select specific rows and/or columns using iloc when using the positions in the table.\n",
    "\n",
    "You can assign new values to a selection based on loc/iloc.\n"
   ]
  }
 ],
 "metadata": {
  "kernelspec": {
   "display_name": "env",
   "language": "python",
   "name": "python3"
  },
  "language_info": {
   "codemirror_mode": {
    "name": "ipython",
    "version": 3
   },
   "file_extension": ".py",
   "mimetype": "text/x-python",
   "name": "python",
   "nbconvert_exporter": "python",
   "pygments_lexer": "ipython3",
   "version": "3.10.5"
  }
 },
 "nbformat": 4,
 "nbformat_minor": 2
}
