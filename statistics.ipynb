{
 "cells": [
  {
   "cell_type": "code",
   "execution_count": null,
   "metadata": {},
   "outputs": [],
   "source": [
    "import pandas as pd\n",
    "circuits = pd.read_csv(\"./files/002 circuits.csv\", index_col=0)\n",
    "circuits.head()\n"
   ]
  },
  {
   "cell_type": "code",
   "execution_count": null,
   "metadata": {},
   "outputs": [],
   "source": [
    "circuits[\"alt_2\"] = circuits[\"alt\"] * 2\n",
    "circuits.head()"
   ]
  },
  {
   "cell_type": "code",
   "execution_count": null,
   "metadata": {},
   "outputs": [],
   "source": [
    "circuits = circuits.rename(columns={\n",
    "    \"alt_2\":\"alt_twice\"\n",
    "})\n",
    "circuits.head()"
   ]
  },
  {
   "cell_type": "markdown",
   "metadata": {},
   "source": [
    "mean, median,describe, agg"
   ]
  },
  {
   "cell_type": "code",
   "execution_count": null,
   "metadata": {},
   "outputs": [],
   "source": [
    "circuits[[\"name\", \"country\"]].groupby(\"country\").count().sort_values(\"name\",ascending=False)\n"
   ]
  },
  {
   "cell_type": "code",
   "execution_count": 25,
   "metadata": {},
   "outputs": [
    {
     "data": {
      "text/plain": [
       "location\n",
       "Barcelona               2\n",
       "Spielburg               2\n",
       "California              2\n",
       "Melbourne               1\n",
       "Le Mans                 1\n",
       "                       ..\n",
       "Jerez de la Frontera    1\n",
       "Buenos Aires            1\n",
       "Abu Dhabi               1\n",
       "Suzuka                  1\n",
       "Jeddah                  1\n",
       "Name: count, Length: 74, dtype: int64"
      ]
     },
     "execution_count": 25,
     "metadata": {},
     "output_type": "execute_result"
    }
   ],
   "source": [
    "circuits[\"location\"].value_counts()"
   ]
  },
  {
   "cell_type": "markdown",
   "metadata": {},
   "source": [
    "Aggregation statistics can be calculated on entire columns or rows.\n",
    "\n",
    "groupby provides the power of the split-apply-combine pattern.\n",
    "\n",
    "value_counts is a convenient shortcut to count the number of entries in each category of a variable."
   ]
  }
 ],
 "metadata": {
  "kernelspec": {
   "display_name": "env",
   "language": "python",
   "name": "python3"
  },
  "language_info": {
   "codemirror_mode": {
    "name": "ipython",
    "version": 3
   },
   "file_extension": ".py",
   "mimetype": "text/x-python",
   "name": "python",
   "nbconvert_exporter": "python",
   "pygments_lexer": "ipython3",
   "version": "3.10.5"
  }
 },
 "nbformat": 4,
 "nbformat_minor": 2
}
